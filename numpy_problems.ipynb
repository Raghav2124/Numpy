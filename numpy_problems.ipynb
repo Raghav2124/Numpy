{
 "cells": [
  {
   "cell_type": "code",
   "execution_count": 1,
   "metadata": {},
   "outputs": [],
   "source": [
    "import numpy as np"
   ]
  },
  {
   "cell_type": "code",
   "execution_count": 2,
   "metadata": {},
   "outputs": [
    {
     "data": {
      "text/plain": [
       "array([[1., 0., 0.],\n",
       "       [0., 1., 0.],\n",
       "       [0., 0., 1.]])"
      ]
     },
     "execution_count": 2,
     "metadata": {},
     "output_type": "execute_result"
    }
   ],
   "source": [
    "arr1=np.eye(3)#this is used to create a identity matrix\n",
    "arr1"
   ]
  },
  {
   "cell_type": "code",
   "execution_count": 3,
   "metadata": {},
   "outputs": [
    {
     "data": {
      "text/plain": [
       "array([[0., 0., 0.],\n",
       "       [0., 0., 0.],\n",
       "       [0., 0., 0.],\n",
       "       [0., 0., 0.]])"
      ]
     },
     "execution_count": 3,
     "metadata": {},
     "output_type": "execute_result"
    }
   ],
   "source": [
    "arr2=np.zeros((4,3))#used to create an array of given  with all the elements \n",
    "arr2"
   ]
  },
  {
   "cell_type": "code",
   "execution_count": 4,
   "metadata": {},
   "outputs": [
    {
     "data": {
      "text/plain": [
       "array([[1., 1., 1.],\n",
       "       [1., 1., 1.],\n",
       "       [1., 1., 1.]])"
      ]
     },
     "execution_count": 4,
     "metadata": {},
     "output_type": "execute_result"
    }
   ],
   "source": [
    "arr3=np.ones((3,3))#this create an array withh every element one\n",
    "arr3"
   ]
  },
  {
   "cell_type": "code",
   "execution_count": 5,
   "metadata": {},
   "outputs": [
    {
     "data": {
      "text/plain": [
       "array([[1, 0, 0],\n",
       "       [0, 2, 0],\n",
       "       [0, 0, 3]])"
      ]
     },
     "execution_count": 5,
     "metadata": {},
     "output_type": "execute_result"
    }
   ],
   "source": [
    "l1=[1,2,3]\n",
    "arr4=np.diag(l1)\n",
    "arr4"
   ]
  },
  {
   "cell_type": "code",
   "execution_count": 48,
   "metadata": {},
   "outputs": [
    {
     "name": "stdout",
     "output_type": "stream",
     "text": [
      "Largest element is: 7\n",
      "Row-wise maximum elements: [6 7]\n",
      "column-wise maximum elements:  [4 7 6]\n",
      "Mean of the array:  4.166666666666667\n",
      "Mean row-wise of the array:  [4.         4.33333333]\n",
      "Mean of the array:  [2.5 6.  4. ]\n",
      "4.166666666666667\n"
     ]
    }
   ],
   "source": [
    "\n",
    "arr = np.array([[1, 5, 6], [4, 7, 2]]) \n",
    "# maximum element of array \n",
    "print (\"Largest element is:\", arr.max()) \n",
    "print (\"Row-wise maximum elements:\", arr.max(axis = 1) ) #print the max element row wise\n",
    "print(\"column-wise maximum elements: \",arr.max(axis=0))#prints max element column -wise from every column\n",
    "print(\"Mean of the array: \" ,np.mean(arr))#print mean of the entire array\n",
    "print(\"Mean row-wise of the array: \" ,np.mean(arr,axis=1))#print mean of the entire array\n",
    "print(\"Mean of the array: \" ,np.mean(arr,axis=0))#print mean of the entire array\n",
    "print(np.average(arr))#this is same as mean but if we pass a array to find weight then it will multiply it element wise in order to give the average\n"
   ]
  },
  {
   "cell_type": "code",
   "execution_count": 12,
   "metadata": {},
   "outputs": [
    {
     "name": "stdout",
     "output_type": "stream",
     "text": [
      "Array sum:  [[11 13 15]\n",
      " [17 19 21]\n",
      " [23 25 27]]\n",
      "Array subtraction:  [[9 9 9]\n",
      " [9 9 9]\n",
      " [9 9 9]]\n",
      "This does  Multiplication elementwise:  [[ 10  22  36]\n",
      " [ 52  70  90]\n",
      " [112 136 162]]\n",
      "Matrix Multiplication: \n",
      " [[ 84  90  96]\n",
      " [201 216 231]\n",
      " [318 342 366]]\n"
     ]
    }
   ],
   "source": [
    "a=np.array([[1,2,3],[4,5,6],[7,8,9]])\n",
    "b=np.array([[10,11,12],[13,14,15],[16,17,18]])\n",
    "#add two arrays but they should have same dimensions otherwise it will show an array \n",
    "print(\"Array sum: \",a+b)\n",
    "#subtract two arrays\n",
    "print(\"Array subtraction: \\n\",b-a)\n",
    "#multiplication of two arrays\n",
    "print(\"This does  Multiplication elementwise: \\n\",a*b)\n",
    "#if we want to do multiplication matrix wise we will need dot function\n",
    "print(\"Matrix Multiplication: \\n\",a.dot(b))\n"
   ]
  },
  {
   "cell_type": "code",
   "execution_count": 47,
   "metadata": {},
   "outputs": [
    {
     "name": "stdout",
     "output_type": "stream",
     "text": [
      "25\n",
      "[1 2 3 4]\n",
      "[[1 2 3]\n",
      " [4 5 6]]\n",
      "[[[ 1  2  3]\n",
      "  [ 4  5  6]]\n",
      "\n",
      " [[ 7  8  9]\n",
      "  [10 11 12]]]\n",
      "[[[[[1 2 3 5]]]]]\n",
      "[[1 5 6]\n",
      " [4 7 2]]\n",
      "[0 1 1 1 1]\n",
      "Adding 1 to every element: [2 3 4 5]\n",
      "\n",
      "Subtracting 2 from each element: [-1  0  1  2]\n"
     ]
    }
   ],
   "source": [
    "ar=np.array(25) #0-d array /single element array\n",
    "ar1=np.array([1,2,3,4])#1-D array \n",
    "ar2=np.array([[1,2,3],[4,5,6]])#2-D array \n",
    "ar3=np.array([[[1,2,3],[4,5,6]],[[7,8,9],[10,11,12]]])#3-D array \n",
    "arH=np.array([1,2,3,5],ndmin=5)#creating an array of higher dimensions  ndmin is used to give the dimensions\n",
    "# In this array the innermost dimension (5th dim) has 4 elements, the 4th dim has 1 element that is the vector, \n",
    "# the 3rd dim has 1 element that is the matrix with the vector, the 2nd dim has 1 element that is 3D array and 1st dim has 1 element that is a 4D array.\n",
    "print(ar)\n",
    "print(ar1)\n",
    "print(ar2)\n",
    "print(ar3)\n",
    "print(arH)\n",
    "print(arr)\n",
    "print(np.bincount(ar1))\n",
    "print (\"Adding 1 to every element:\", ar1 + 1)\n",
    "print (\"\\nSubtracting 2 from each element:\", ar1 - 2)"
   ]
  },
  {
   "cell_type": "code",
   "execution_count": null,
   "metadata": {},
   "outputs": [],
   "source": []
  },
  {
   "cell_type": "code",
   "execution_count": 15,
   "metadata": {},
   "outputs": [
    {
     "data": {
      "text/plain": [
       "array([ 5,  6,  7,  8,  9, 10, 11, 12, 13, 14])"
      ]
     },
     "execution_count": 15,
     "metadata": {},
     "output_type": "execute_result"
    }
   ],
   "source": [
    "# Create a sequence of integers \n",
    "# from 0 to 30 with steps of 5\n",
    "f = np.arange(0, 30, 5) \n",
    "number = np.arange(10)\n",
    "number2 = np.arange(5,15)\n",
    "f\n",
    "number\n",
    "number2"
   ]
  },
  {
   "cell_type": "code",
   "execution_count": 21,
   "metadata": {},
   "outputs": [
    {
     "name": "stdout",
     "output_type": "stream",
     "text": [
      "This tells us about the shape of an array : (2, 3)\n",
      "This tells us about the length of an array : 2\n",
      "This tells us about the size of an array : 6\n"
     ]
    }
   ],
   "source": [
    "print(\"This tells us about the shape of an array :\" ,arr.shape)\n",
    "print(\"This tells us about the number of rows in an array :\" ,len(arr))\n",
    "print(\"This tells us about the number of element in an array :\" ,arr.size)\n"
   ]
  },
  {
   "cell_type": "code",
   "execution_count": 22,
   "metadata": {},
   "outputs": [
    {
     "name": "stdout",
     "output_type": "stream",
     "text": [
      "A sequential array with 10 values between 0 and 5: [0.         0.55555556 1.11111111 1.66666667 2.22222222 2.77777778\n",
      " 3.33333333 3.88888889 4.44444444 5.        ]\n"
     ]
    }
   ],
   "source": [
    "g = np.linspace(0, 5, 10) \n",
    "print (\"A sequential array with 10 values between 0 and 5:\", g)"
   ]
  },
  {
   "cell_type": "code",
   "execution_count": 23,
   "metadata": {},
   "outputs": [
    {
     "name": "stdout",
     "output_type": "stream",
     "text": [
      "[[1 1 1]\n",
      " [1 1 1]\n",
      " [1 1 1]]\n",
      "int32\n"
     ]
    }
   ],
   "source": [
    "newarr = arr3.astype('i')#The astype() function creates a copy of the array, and allows you to specify the data type as a parameter.\n",
    "print(newarr)\n",
    "print(newarr.dtype)"
   ]
  },
  {
   "cell_type": "code",
   "execution_count": 28,
   "metadata": {},
   "outputs": [
    {
     "name": "stdout",
     "output_type": "stream",
     "text": [
      "[4 5 6]\n",
      "[3 6]\n"
     ]
    }
   ],
   "source": [
    "print(ar2[1,:])\n",
    "print(ar2[:,2])"
   ]
  },
  {
   "cell_type": "code",
   "execution_count": 29,
   "metadata": {},
   "outputs": [
    {
     "data": {
      "text/plain": [
       "array([ 1,  2,  3,  4,  5,  6,  7,  8,  9, 10, 11, 12])"
      ]
     },
     "execution_count": 29,
     "metadata": {},
     "output_type": "execute_result"
    }
   ],
   "source": [
    "ar3.flatten()"
   ]
  },
  {
   "cell_type": "code",
   "execution_count": 30,
   "metadata": {},
   "outputs": [
    {
     "data": {
      "text/plain": [
       "array([ 1,  2,  3,  4,  5,  6,  7,  8,  9, 10, 11, 12])"
      ]
     },
     "execution_count": 30,
     "metadata": {},
     "output_type": "execute_result"
    }
   ],
   "source": [
    "ar3.reshape(-1)"
   ]
  },
  {
   "cell_type": "code",
   "execution_count": 34,
   "metadata": {},
   "outputs": [
    {
     "data": {
      "text/plain": [
       "array([[1, 2],\n",
       "       [3, 4]])"
      ]
     },
     "execution_count": 34,
     "metadata": {},
     "output_type": "execute_result"
    }
   ],
   "source": [
    "ar1.reshape(2,-1)"
   ]
  },
  {
   "cell_type": "code",
   "execution_count": 40,
   "metadata": {},
   "outputs": [
    {
     "data": {
      "text/plain": [
       "[array([[[1, 2, 3],\n",
       "         [4, 5, 6]]]),\n",
       " array([[[ 7,  8,  9],\n",
       "         [10, 11, 12]]]),\n",
       " array([], shape=(0, 2, 3), dtype=int32),\n",
       " array([], shape=(0, 2, 3), dtype=int32),\n",
       " array([], shape=(0, 2, 3), dtype=int32)]"
      ]
     },
     "execution_count": 40,
     "metadata": {},
     "output_type": "execute_result"
    }
   ],
   "source": [
    "np.array_split(ar3,5)#works even if there are not sufficent elements in the array "
   ]
  },
  {
   "cell_type": "code",
   "execution_count": 41,
   "metadata": {},
   "outputs": [
    {
     "name": "stdout",
     "output_type": "stream",
     "text": [
      "[1 2 3 4 5 6]\n",
      "[[1 2 5 6]\n",
      " [3 4 7 8]]\n",
      "[[1 2 3]\n",
      " [4 5 6]]\n",
      "[[1 4]\n",
      " [2 5]\n",
      " [3 6]]\n",
      "[1 2 3 4 5 6]\n",
      "[[1 2 3]\n",
      " [4 5 6]]\n"
     ]
    }
   ],
   "source": [
    "import numpy as np\n",
    "arr1=np.array([1,2,3])\n",
    "arr2=np.array([4,5,6])\n",
    "arr=np.concatenate((arr1,arr2))\n",
    "print(arr)\n",
    "arr3 = np.array([[1, 2], [3, 4]])\n",
    "arr4 = np.array([[5, 6], [7, 8]])\n",
    "arr5 = np.concatenate((arr3, arr4), axis=1)#axis =0 means we concatenate column wise and axis =1 means row wise \n",
    "print(arr5)\n",
    "#join using stack \n",
    "#Stacking is same as concatenation, the only difference is that stacking is done along a new axis\n",
    "arr7=np.stack((arr1,arr2))\n",
    "arr8=np.stack((arr1,arr2),axis=1)\n",
    "arr9=np.hstack((arr1,arr2))\n",
    "arr10=np.vstack((arr1,arr2))\n",
    "print( arr7)\n",
    "print(arr8)\n",
    "print(arr9)\n",
    "print(arr10)"
   ]
  },
  {
   "cell_type": "code",
   "execution_count": 42,
   "metadata": {},
   "outputs": [
    {
     "name": "stdout",
     "output_type": "stream",
     "text": [
      "int32\n",
      "[b'2' b'3' b'4' b'5']\n",
      "int32\n",
      "[1 2 3]\n",
      "int32\n"
     ]
    }
   ],
   "source": [
    "import numpy as np\n",
    "arr=np.array([1,2,3,4])\n",
    "print(arr.dtype)\n",
    "arr1=np.array([2,3,4,5],dtype='S')# b represent byte representation\n",
    "print(arr1)\n",
    "\n",
    "arr2 = np.array([1, 2, 3, 4], dtype='i4')\n",
    "print(arr2.dtype)\n",
    "arr3 = np.array([1.1, 2.1, 3.1])\n",
    "#alternate method to define the data type \n",
    "newarr = arr3.astype('i')#The astype() function creates a copy of the array, and allows you to specify the data type as a parameter.\n",
    "print(newarr)\n",
    "print(newarr.dtype)"
   ]
  },
  {
   "cell_type": "code",
   "execution_count": 49,
   "metadata": {},
   "outputs": [
    {
     "name": "stdout",
     "output_type": "stream",
     "text": [
      "[[0.20162977 0.22684468 0.78094203 0.04446026 0.09810734 0.2737236 ]\n",
      " [0.86051249 0.72577396 0.91738735 0.45126176 0.72220348 0.81802412]\n",
      " [0.30804858 0.17139976 0.23771994 0.67636793 0.18914014 0.22565212]\n",
      " [0.2949127  0.96529499 0.7200735  0.44450041 0.21826863 0.01708152]\n",
      " [0.62067928 0.89996575 0.08982854 0.86644502 0.32566894 0.68892367]]\n"
     ]
    }
   ],
   "source": [
    "ra = np.random.random((5,6))\n",
    "print(ra)"
   ]
  },
  {
   "cell_type": "code",
   "execution_count": null,
   "metadata": {},
   "outputs": [],
   "source": []
  }
 ],
 "metadata": {
  "kernelspec": {
   "display_name": "Python 3",
   "language": "python",
   "name": "python3"
  },
  "language_info": {
   "name": "python",
   "version": "3.12.1"
  }
 },
 "nbformat": 4,
 "nbformat_minor": 2
}
